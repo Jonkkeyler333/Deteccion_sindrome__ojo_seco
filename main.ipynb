{
 "cells": [
  {
   "cell_type": "markdown",
   "metadata": {},
   "source": [
    "# **Detección de síndrome del ojo seco empleando atributos del estilo de vida de la persona y variables medicas**"
   ]
  }
 ],
 "metadata": {
  "language_info": {
   "name": "python"
  }
 },
 "nbformat": 4,
 "nbformat_minor": 2
}
