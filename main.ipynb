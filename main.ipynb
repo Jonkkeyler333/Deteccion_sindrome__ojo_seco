{
 "cells": [
  {
   "cell_type": "markdown",
   "metadata": {},
   "source": [
    "# **Detección de síndrome del ojo seco empleando atributos del estilo de vida de la persona y variables medicas**"
   ]
  },
  {
   "cell_type": "markdown",
   "metadata": {},
   "source": [
    "## Import the necesary packages"
   ]
  },
  {
   "cell_type": "code",
   "execution_count": 1,
   "metadata": {},
   "outputs": [],
   "source": [
    "import pandas as pd\n",
    "import numpy as np\n",
    "import matplotlib.pyplot as plt\n",
    "import seaborn as sns\n",
    "from sklearn.preprocessing import StandardScaler\n",
    "from sklearn.model_selection import train_test_split"
   ]
  },
  {
   "cell_type": "markdown",
   "metadata": {},
   "source": [
    "## Data Loading"
   ]
  },
  {
   "cell_type": "code",
   "execution_count": null,
   "metadata": {},
   "outputs": [],
   "source": [
    "#url='https://drive.google.com/file/d/1rsinyuJoJesd_UyrLaD0u-ECzJH4PHFA/view?usp=sharing'"
   ]
  },
  {
   "cell_type": "code",
   "execution_count": 2,
   "metadata": {},
   "outputs": [],
   "source": [
    "url='https://drive.google.com/uc?export=download&id=1rsinyuJoJesd_UyrLaD0u-ECzJH4PHFA'"
   ]
  },
  {
   "cell_type": "code",
   "execution_count": 3,
   "metadata": {},
   "outputs": [
    {
     "data": {
      "application/vnd.microsoft.datawrangler.viewer.v0+json": {
       "columns": [
        {
         "name": "index",
         "rawType": "int64",
         "type": "integer"
        },
        {
         "name": "Gender",
         "rawType": "object",
         "type": "string"
        },
        {
         "name": "Age",
         "rawType": "int64",
         "type": "integer"
        },
        {
         "name": "Sleep duration",
         "rawType": "float64",
         "type": "float"
        },
        {
         "name": "Sleep quality",
         "rawType": "int64",
         "type": "integer"
        },
        {
         "name": "Stress level",
         "rawType": "int64",
         "type": "integer"
        },
        {
         "name": "Blood pressure",
         "rawType": "object",
         "type": "string"
        },
        {
         "name": "Heart rate",
         "rawType": "int64",
         "type": "integer"
        },
        {
         "name": "Daily steps",
         "rawType": "int64",
         "type": "integer"
        },
        {
         "name": "Physical activity",
         "rawType": "int64",
         "type": "integer"
        },
        {
         "name": "Height",
         "rawType": "int64",
         "type": "integer"
        },
        {
         "name": "Weight",
         "rawType": "int64",
         "type": "integer"
        },
        {
         "name": "Sleep disorder",
         "rawType": "object",
         "type": "string"
        },
        {
         "name": "Wake up during night",
         "rawType": "object",
         "type": "string"
        },
        {
         "name": "Feel sleepy during day",
         "rawType": "object",
         "type": "string"
        },
        {
         "name": "Caffeine consumption",
         "rawType": "object",
         "type": "string"
        },
        {
         "name": "Alcohol consumption",
         "rawType": "object",
         "type": "string"
        },
        {
         "name": "Smoking",
         "rawType": "object",
         "type": "string"
        },
        {
         "name": "Medical issue",
         "rawType": "object",
         "type": "string"
        },
        {
         "name": "Ongoing medication",
         "rawType": "object",
         "type": "string"
        },
        {
         "name": "Smart device before bed",
         "rawType": "object",
         "type": "string"
        },
        {
         "name": "Average screen time",
         "rawType": "float64",
         "type": "float"
        },
        {
         "name": "Blue-light filter",
         "rawType": "object",
         "type": "string"
        },
        {
         "name": "Discomfort Eye-strain",
         "rawType": "object",
         "type": "string"
        },
        {
         "name": "Redness in eye",
         "rawType": "object",
         "type": "string"
        },
        {
         "name": "Itchiness/Irritation in eye",
         "rawType": "object",
         "type": "string"
        },
        {
         "name": "Dry Eye Disease",
         "rawType": "object",
         "type": "string"
        }
       ],
       "conversionMethod": "pd.DataFrame",
       "ref": "7f9fc6a4-798a-441e-b87c-63b740fe6efb",
       "rows": [
        [
         "0",
         "F",
         "24",
         "9.5",
         "2",
         "1",
         "137/89",
         "67",
         "3000",
         "31",
         "161",
         "69",
         "Y",
         "N",
         "N",
         "N",
         "N",
         "N",
         "Y",
         "Y",
         "N",
         "8.7",
         "N",
         "Y",
         "Y",
         "N",
         "Y"
        ],
        [
         "1",
         "M",
         "39",
         "9.6",
         "2",
         "3",
         "108/64",
         "60",
         "12000",
         "74",
         "164",
         "87",
         "N",
         "N",
         "N",
         "N",
         "Y",
         "N",
         "Y",
         "Y",
         "N",
         "9.6",
         "Y",
         "N",
         "N",
         "Y",
         "Y"
        ],
        [
         "2",
         "F",
         "45",
         "5.4",
         "1",
         "5",
         "134/81",
         "95",
         "12000",
         "93",
         "179",
         "94",
         "Y",
         "Y",
         "N",
         "Y",
         "Y",
         "N",
         "N",
         "N",
         "Y",
         "4.0",
         "N",
         "Y",
         "N",
         "N",
         "N"
        ],
        [
         "3",
         "F",
         "45",
         "5.4",
         "4",
         "5",
         "110/90",
         "78",
         "19000",
         "32",
         "160",
         "77",
         "N",
         "N",
         "N",
         "Y",
         "N",
         "N",
         "Y",
         "N",
         "N",
         "7.6",
         "N",
         "Y",
         "N",
         "Y",
         "N"
        ],
        [
         "4",
         "F",
         "42",
         "5.7",
         "3",
         "2",
         "99/67",
         "72",
         "4000",
         "173",
         "179",
         "99",
         "N",
         "Y",
         "N",
         "N",
         "N",
         "N",
         "Y",
         "N",
         "N",
         "3.5",
         "N",
         "Y",
         "Y",
         "N",
         "Y"
        ]
       ],
       "shape": {
        "columns": 26,
        "rows": 5
       }
      },
      "text/html": [
       "<div>\n",
       "<style scoped>\n",
       "    .dataframe tbody tr th:only-of-type {\n",
       "        vertical-align: middle;\n",
       "    }\n",
       "\n",
       "    .dataframe tbody tr th {\n",
       "        vertical-align: top;\n",
       "    }\n",
       "\n",
       "    .dataframe thead th {\n",
       "        text-align: right;\n",
       "    }\n",
       "</style>\n",
       "<table border=\"1\" class=\"dataframe\">\n",
       "  <thead>\n",
       "    <tr style=\"text-align: right;\">\n",
       "      <th></th>\n",
       "      <th>Gender</th>\n",
       "      <th>Age</th>\n",
       "      <th>Sleep duration</th>\n",
       "      <th>Sleep quality</th>\n",
       "      <th>Stress level</th>\n",
       "      <th>Blood pressure</th>\n",
       "      <th>Heart rate</th>\n",
       "      <th>Daily steps</th>\n",
       "      <th>Physical activity</th>\n",
       "      <th>Height</th>\n",
       "      <th>...</th>\n",
       "      <th>Smoking</th>\n",
       "      <th>Medical issue</th>\n",
       "      <th>Ongoing medication</th>\n",
       "      <th>Smart device before bed</th>\n",
       "      <th>Average screen time</th>\n",
       "      <th>Blue-light filter</th>\n",
       "      <th>Discomfort Eye-strain</th>\n",
       "      <th>Redness in eye</th>\n",
       "      <th>Itchiness/Irritation in eye</th>\n",
       "      <th>Dry Eye Disease</th>\n",
       "    </tr>\n",
       "  </thead>\n",
       "  <tbody>\n",
       "    <tr>\n",
       "      <th>0</th>\n",
       "      <td>F</td>\n",
       "      <td>24</td>\n",
       "      <td>9.5</td>\n",
       "      <td>2</td>\n",
       "      <td>1</td>\n",
       "      <td>137/89</td>\n",
       "      <td>67</td>\n",
       "      <td>3000</td>\n",
       "      <td>31</td>\n",
       "      <td>161</td>\n",
       "      <td>...</td>\n",
       "      <td>N</td>\n",
       "      <td>Y</td>\n",
       "      <td>Y</td>\n",
       "      <td>N</td>\n",
       "      <td>8.7</td>\n",
       "      <td>N</td>\n",
       "      <td>Y</td>\n",
       "      <td>Y</td>\n",
       "      <td>N</td>\n",
       "      <td>Y</td>\n",
       "    </tr>\n",
       "    <tr>\n",
       "      <th>1</th>\n",
       "      <td>M</td>\n",
       "      <td>39</td>\n",
       "      <td>9.6</td>\n",
       "      <td>2</td>\n",
       "      <td>3</td>\n",
       "      <td>108/64</td>\n",
       "      <td>60</td>\n",
       "      <td>12000</td>\n",
       "      <td>74</td>\n",
       "      <td>164</td>\n",
       "      <td>...</td>\n",
       "      <td>N</td>\n",
       "      <td>Y</td>\n",
       "      <td>Y</td>\n",
       "      <td>N</td>\n",
       "      <td>9.6</td>\n",
       "      <td>Y</td>\n",
       "      <td>N</td>\n",
       "      <td>N</td>\n",
       "      <td>Y</td>\n",
       "      <td>Y</td>\n",
       "    </tr>\n",
       "    <tr>\n",
       "      <th>2</th>\n",
       "      <td>F</td>\n",
       "      <td>45</td>\n",
       "      <td>5.4</td>\n",
       "      <td>1</td>\n",
       "      <td>5</td>\n",
       "      <td>134/81</td>\n",
       "      <td>95</td>\n",
       "      <td>12000</td>\n",
       "      <td>93</td>\n",
       "      <td>179</td>\n",
       "      <td>...</td>\n",
       "      <td>N</td>\n",
       "      <td>N</td>\n",
       "      <td>N</td>\n",
       "      <td>Y</td>\n",
       "      <td>4.0</td>\n",
       "      <td>N</td>\n",
       "      <td>Y</td>\n",
       "      <td>N</td>\n",
       "      <td>N</td>\n",
       "      <td>N</td>\n",
       "    </tr>\n",
       "    <tr>\n",
       "      <th>3</th>\n",
       "      <td>F</td>\n",
       "      <td>45</td>\n",
       "      <td>5.4</td>\n",
       "      <td>4</td>\n",
       "      <td>5</td>\n",
       "      <td>110/90</td>\n",
       "      <td>78</td>\n",
       "      <td>19000</td>\n",
       "      <td>32</td>\n",
       "      <td>160</td>\n",
       "      <td>...</td>\n",
       "      <td>N</td>\n",
       "      <td>Y</td>\n",
       "      <td>N</td>\n",
       "      <td>N</td>\n",
       "      <td>7.6</td>\n",
       "      <td>N</td>\n",
       "      <td>Y</td>\n",
       "      <td>N</td>\n",
       "      <td>Y</td>\n",
       "      <td>N</td>\n",
       "    </tr>\n",
       "    <tr>\n",
       "      <th>4</th>\n",
       "      <td>F</td>\n",
       "      <td>42</td>\n",
       "      <td>5.7</td>\n",
       "      <td>3</td>\n",
       "      <td>2</td>\n",
       "      <td>99/67</td>\n",
       "      <td>72</td>\n",
       "      <td>4000</td>\n",
       "      <td>173</td>\n",
       "      <td>179</td>\n",
       "      <td>...</td>\n",
       "      <td>N</td>\n",
       "      <td>Y</td>\n",
       "      <td>N</td>\n",
       "      <td>N</td>\n",
       "      <td>3.5</td>\n",
       "      <td>N</td>\n",
       "      <td>Y</td>\n",
       "      <td>Y</td>\n",
       "      <td>N</td>\n",
       "      <td>Y</td>\n",
       "    </tr>\n",
       "  </tbody>\n",
       "</table>\n",
       "<p>5 rows × 26 columns</p>\n",
       "</div>"
      ],
      "text/plain": [
       "  Gender  Age  Sleep duration  Sleep quality  Stress level Blood pressure  \\\n",
       "0      F   24             9.5              2             1         137/89   \n",
       "1      M   39             9.6              2             3         108/64   \n",
       "2      F   45             5.4              1             5         134/81   \n",
       "3      F   45             5.4              4             5         110/90   \n",
       "4      F   42             5.7              3             2          99/67   \n",
       "\n",
       "   Heart rate  Daily steps  Physical activity  Height  ...  Smoking  \\\n",
       "0          67         3000                 31     161  ...        N   \n",
       "1          60        12000                 74     164  ...        N   \n",
       "2          95        12000                 93     179  ...        N   \n",
       "3          78        19000                 32     160  ...        N   \n",
       "4          72         4000                173     179  ...        N   \n",
       "\n",
       "  Medical issue Ongoing medication Smart device before bed  \\\n",
       "0             Y                  Y                       N   \n",
       "1             Y                  Y                       N   \n",
       "2             N                  N                       Y   \n",
       "3             Y                  N                       N   \n",
       "4             Y                  N                       N   \n",
       "\n",
       "  Average screen time Blue-light filter Discomfort Eye-strain Redness in eye  \\\n",
       "0                 8.7                 N                     Y              Y   \n",
       "1                 9.6                 Y                     N              N   \n",
       "2                 4.0                 N                     Y              N   \n",
       "3                 7.6                 N                     Y              N   \n",
       "4                 3.5                 N                     Y              Y   \n",
       "\n",
       "  Itchiness/Irritation in eye Dry Eye Disease  \n",
       "0                           N               Y  \n",
       "1                           Y               Y  \n",
       "2                           N               N  \n",
       "3                           Y               N  \n",
       "4                           N               Y  \n",
       "\n",
       "[5 rows x 26 columns]"
      ]
     },
     "execution_count": 3,
     "metadata": {},
     "output_type": "execute_result"
    }
   ],
   "source": [
    "df=pd.read_csv(url)\n",
    "df.head()"
   ]
  },
  {
   "cell_type": "code",
   "execution_count": 4,
   "metadata": {},
   "outputs": [
    {
     "name": "stdout",
     "output_type": "stream",
     "text": [
      "<class 'pandas.core.frame.DataFrame'>\n",
      "RangeIndex: 20000 entries, 0 to 19999\n",
      "Data columns (total 26 columns):\n",
      " #   Column                       Non-Null Count  Dtype  \n",
      "---  ------                       --------------  -----  \n",
      " 0   Gender                       20000 non-null  object \n",
      " 1   Age                          20000 non-null  int64  \n",
      " 2   Sleep duration               20000 non-null  float64\n",
      " 3   Sleep quality                20000 non-null  int64  \n",
      " 4   Stress level                 20000 non-null  int64  \n",
      " 5   Blood pressure               20000 non-null  object \n",
      " 6   Heart rate                   20000 non-null  int64  \n",
      " 7   Daily steps                  20000 non-null  int64  \n",
      " 8   Physical activity            20000 non-null  int64  \n",
      " 9   Height                       20000 non-null  int64  \n",
      " 10  Weight                       20000 non-null  int64  \n",
      " 11  Sleep disorder               20000 non-null  object \n",
      " 12  Wake up during night         20000 non-null  object \n",
      " 13  Feel sleepy during day       20000 non-null  object \n",
      " 14  Caffeine consumption         20000 non-null  object \n",
      " 15  Alcohol consumption          20000 non-null  object \n",
      " 16  Smoking                      20000 non-null  object \n",
      " 17  Medical issue                20000 non-null  object \n",
      " 18  Ongoing medication           20000 non-null  object \n",
      " 19  Smart device before bed      20000 non-null  object \n",
      " 20  Average screen time          20000 non-null  float64\n",
      " 21  Blue-light filter            20000 non-null  object \n",
      " 22  Discomfort Eye-strain        20000 non-null  object \n",
      " 23  Redness in eye               20000 non-null  object \n",
      " 24  Itchiness/Irritation in eye  20000 non-null  object \n",
      " 25  Dry Eye Disease              20000 non-null  object \n",
      "dtypes: float64(2), int64(8), object(16)\n",
      "memory usage: 4.0+ MB\n"
     ]
    }
   ],
   "source": [
    "df.info()"
   ]
  },
  {
   "cell_type": "code",
   "execution_count": 5,
   "metadata": {},
   "outputs": [
    {
     "data": {
      "text/plain": [
       "Gender                         0\n",
       "Age                            0\n",
       "Sleep duration                 0\n",
       "Sleep quality                  0\n",
       "Stress level                   0\n",
       "Blood pressure                 0\n",
       "Heart rate                     0\n",
       "Daily steps                    0\n",
       "Physical activity              0\n",
       "Height                         0\n",
       "Weight                         0\n",
       "Sleep disorder                 0\n",
       "Wake up during night           0\n",
       "Feel sleepy during day         0\n",
       "Caffeine consumption           0\n",
       "Alcohol consumption            0\n",
       "Smoking                        0\n",
       "Medical issue                  0\n",
       "Ongoing medication             0\n",
       "Smart device before bed        0\n",
       "Average screen time            0\n",
       "Blue-light filter              0\n",
       "Discomfort Eye-strain          0\n",
       "Redness in eye                 0\n",
       "Itchiness/Irritation in eye    0\n",
       "Dry Eye Disease                0\n",
       "dtype: int64"
      ]
     },
     "execution_count": 5,
     "metadata": {},
     "output_type": "execute_result"
    }
   ],
   "source": [
    "df.isna().sum()"
   ]
  }
 ],
 "metadata": {
  "kernelspec": {
   "display_name": "Python 3",
   "language": "python",
   "name": "python3"
  },
  "language_info": {
   "codemirror_mode": {
    "name": "ipython",
    "version": 3
   },
   "file_extension": ".py",
   "mimetype": "text/x-python",
   "name": "python",
   "nbconvert_exporter": "python",
   "pygments_lexer": "ipython3",
   "version": "3.12.6"
  }
 },
 "nbformat": 4,
 "nbformat_minor": 2
}
